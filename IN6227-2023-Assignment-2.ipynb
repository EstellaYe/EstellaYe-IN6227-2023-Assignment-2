{
 "cells": [
  {
   "cell_type": "markdown",
   "metadata": {},
   "source": [
    "# Assignment 2 - Association Rule Mining"
   ]
  },
  {
   "cell_type": "markdown",
   "metadata": {},
   "source": [
    "## 1 Preprocessing"
   ]
  },
  {
   "cell_type": "markdown",
   "metadata": {},
   "source": [
    "### 1.1 Import the Required Libraries"
   ]
  },
  {
   "cell_type": "code",
   "execution_count": 1,
   "metadata": {},
   "outputs": [],
   "source": [
    "import numpy as np\n",
    "import pandas as pd\n",
    "import seaborn as sns\n",
    "from matplotlib import pyplot as plt\n",
    "import csv\n",
    "import time\n",
    "import itertools\n",
    "from itertools import combinations\n",
    "import mlxtend\n",
    "from mlxtend.preprocessing import TransactionEncoder\n",
    "from mlxtend.frequent_patterns import apriori, association_rules"
   ]
  },
  {
   "cell_type": "markdown",
   "metadata": {},
   "source": [
    "## 1.2 Read each row of data"
   ]
  },
  {
   "cell_type": "code",
   "execution_count": 2,
   "metadata": {},
   "outputs": [],
   "source": [
    "import os\n",
    "os.chdir(\"/Users/bytedance/Desktop/datasets/\")"
   ]
  },
  {
   "cell_type": "code",
   "execution_count": 3,
   "metadata": {},
   "outputs": [],
   "source": [
    "def preprocessing_open_csv(csvfile):\n",
    "    with open(csvfile) as csvfile:\n",
    "        reader = csv.reader(csvfile)\n",
    "        data = []\n",
    "        for row in reader:\n",
    "            data.append(row)\n",
    "        data = [[elem for elem in inner_list if elem != ''] for inner_list in data]\n",
    "        df = pd.DataFrame(data)\n",
    "    return df"
   ]
  },
  {
   "cell_type": "code",
   "execution_count": 4,
   "metadata": {},
   "outputs": [],
   "source": [
    "datasets = ['dataset1.csv', 'dataset2.csv', 'dataset3.csv', 'dataset4.csv', 'dataset5.csv', 'dataset6.csv', 'dataset7.csv', 'dataset8.csv']"
   ]
  },
  {
   "cell_type": "code",
   "execution_count": 5,
   "metadata": {},
   "outputs": [],
   "source": [
    "dfs = {}\n",
    "for dataset in datasets:\n",
    "    df = preprocessing_open_csv(dataset)\n",
    "    dfs[dataset] = df"
   ]
  },
  {
   "cell_type": "code",
   "execution_count": 6,
   "metadata": {},
   "outputs": [],
   "source": [
    "df1, df2, df3, df4, df5, df6, df7, df8 = dfs['dataset1.csv'], dfs['dataset2.csv'], dfs['dataset3.csv'], dfs['dataset4.csv'], dfs['dataset5.csv'], dfs['dataset6.csv'], dfs['dataset7.csv'], dfs['dataset8.csv']"
   ]
  },
  {
   "cell_type": "code",
   "execution_count": 7,
   "outputs": [
    {
     "name": "stdout",
     "output_type": "stream",
     "text": [
      "                0              1              2              3           4   \\\n",
      "0           ﻿Lassi  Coffee Powder         Butter        Yougurt        Ghee   \n",
      "1             Ghee  Coffee Powder           None           None        None   \n",
      "2            Lassi     Tea Powder         Butter         Cheese        None   \n",
      "3           Cheese     Tea Powder         Panner  Coffee Powder      Butter   \n",
      "4           Cheese        Yougurt  Coffee Powder          Sugar      Butter   \n",
      "..             ...            ...            ...            ...         ...   \n",
      "795         Cheese          Lassi           Ghee         Butter  Tea Powder   \n",
      "796  Coffee Powder          Sugar        Yougurt          Bread        None   \n",
      "797           Milk          Lassi         Cheese           Ghee  Tea Powder   \n",
      "798           Ghee          Sweet  Coffee Powder         Butter        Milk   \n",
      "799     Tea Powder           Milk        Yougurt          Sugar       Sweet   \n",
      "\n",
      "         5      6     7     8     9     10  \n",
      "0    Cheese   None  None  None  None  None  \n",
      "1      None   None  None  None  None  None  \n",
      "2      None   None  None  None  None  None  \n",
      "3     Bread   None  None  None  None  None  \n",
      "4     Sweet   None  None  None  None  None  \n",
      "..      ...    ...   ...   ...   ...   ...  \n",
      "795    None   None  None  None  None  None  \n",
      "796    None   None  None  None  None  None  \n",
      "797   Sweet  Bread  None  None  None  None  \n",
      "798   Bread   None  None  None  None  None  \n",
      "799    None   None  None  None  None  None  \n",
      "\n",
      "[800 rows x 11 columns]\n"
     ]
    }
   ],
   "source": [
    "print(df1)"
   ],
   "metadata": {
    "collapsed": false
   }
  },
  {
   "cell_type": "code",
   "execution_count": 8,
   "outputs": [],
   "source": [
    "def get_row_length(df):\n",
    "    row_lengths = []\n",
    "    for i in range(len(df)):\n",
    "        row_list = [x for x in df.iloc[i].values.tolist() if x is not None]\n",
    "        row_lengths.append(len(row_list))\n",
    "    avg_row_length = sum(row_lengths) / len(df)\n",
    "    return avg_row_length"
   ],
   "metadata": {
    "collapsed": false
   }
  },
  {
   "cell_type": "code",
   "execution_count": 9,
   "outputs": [],
   "source": [
    "avg_row_length1, avg_row_length2, avg_row_length3, avg_row_length4, avg_row_length5, avg_row_length6, avg_row_length7, avg_row_length8 = get_row_length(df1), get_row_length(df2), get_row_length(df3), get_row_length(df4), get_row_length(df5), get_row_length(df6), get_row_length(df7), get_row_length(df8)"
   ],
   "metadata": {
    "collapsed": false
   }
  },
  {
   "cell_type": "code",
   "execution_count": 34,
   "outputs": [
    {
     "data": {
      "text/plain": "5.13875"
     },
     "execution_count": 34,
     "metadata": {},
     "output_type": "execute_result"
    }
   ],
   "source": [
    "avg_row_length1"
   ],
   "metadata": {
    "collapsed": false
   }
  },
  {
   "cell_type": "code",
   "execution_count": 11,
   "outputs": [
    {
     "name": "stdout",
     "output_type": "stream",
     "text": [
      "The column 0 has 12 distinct values.\n",
      "The column 1 has 12 distinct values.\n",
      "The column 2 has 13 distinct values.\n",
      "The column 3 has 13 distinct values.\n",
      "The column 4 has 13 distinct values.\n",
      "The column 5 has 13 distinct values.\n",
      "The column 6 has 13 distinct values.\n",
      "The column 7 has 13 distinct values.\n",
      "The column 8 has 11 distinct values.\n",
      "The column 9 has 3 distinct values.\n"
     ]
    }
   ],
   "source": [
    "# Get the unique values in each column\n",
    "distinct_values = {}\n",
    "for col in df2.columns:\n",
    "    distinct_values[col] = df2[col].unique()\n",
    "\n",
    "# Count the number of distinct values in each column\n",
    "num_distinct_values = {}\n",
    "for col, values in distinct_values.items():\n",
    "    num_distinct_values[col] = len(values)\n",
    "\n",
    "# Print the number of distinct values in each column\n",
    "for col, num in num_distinct_values.items():\n",
    "    print(f'The column {col} has {num} distinct values.')"
   ],
   "metadata": {
    "collapsed": false
   }
  },
  {
   "cell_type": "markdown",
   "metadata": {},
   "source": [
    "# 2 Association Rule Mining"
   ]
  },
  {
   "cell_type": "markdown",
   "source": [
    "## 2.1 Brute Force"
   ],
   "metadata": {
    "collapsed": false
   }
  },
  {
   "cell_type": "code",
   "execution_count": 12,
   "outputs": [],
   "source": [
    "def brute_force(df, min_support):\n",
    "    transactions = []\n",
    "    for index, row in df.iterrows():\n",
    "        transaction = []\n",
    "        for item in row:\n",
    "            transaction.append(str(item))\n",
    "        transactions.append(transaction)\n",
    "    transactions = [[elem for elem in inner_list if elem != 'None'] for inner_list in transactions]\n",
    "\n",
    "    items = set()\n",
    "    for transaction in transactions:\n",
    "        for item in transaction:\n",
    "            items.add(item)\n",
    "\n",
    "\n",
    "    candidate_itemsets = []\n",
    "    for i in range(2, len(items)+1):\n",
    "        for itemset in itertools.combinations(items, i):\n",
    "            candidate_itemsets.append(itemset)\n",
    "\n",
    "\n",
    "    frequent_itemsets = []\n",
    "    for itemset in candidate_itemsets:\n",
    "        support = 0\n",
    "        for transaction in transactions:\n",
    "            if set(itemset).issubset(transaction):\n",
    "                support += 1\n",
    "        if support/len(transactions) >= min_support:\n",
    "            frequent_itemsets.append((support/len(transactions), itemset))\n",
    "\n",
    "    association_rules_bf = []\n",
    "    for itemset in frequent_itemsets:\n",
    "        for i in range(1, len(itemset[1])):\n",
    "            for antecedent in itertools.combinations(itemset[1], i):\n",
    "                antecedent = frozenset(antecedent)\n",
    "                consequent = set(itemset[1]).difference(antecedent)\n",
    "                support_antecedent = 0\n",
    "                support_itemset = itemset[0]*len(transactions)\n",
    "                for transaction in transactions:\n",
    "                    if antecedent.issubset(transaction):\n",
    "                        support_antecedent += 1\n",
    "                confidence = support_itemset/support_antecedent\n",
    "                lift = confidence/(len(transactions)*support_antecedent/len(transactions)*support_itemset/len(transactions))\n",
    "                if confidence >= 0.5:\n",
    "                    association_rules_bf.append((antecedent, consequent, confidence))\n",
    "\n",
    "\n",
    "    df_frequent_itemsets = pd.DataFrame(frequent_itemsets, columns=['support', 'itemsets'])\n",
    "    df_frequent_itemsets['itemsets'] = df_frequent_itemsets['itemsets'].apply(lambda x: '(' + ', '.join(list(x)) + ')' if len(x) > 1 else '(' + list(x)[0] + ')')\n",
    "    df_association_rules_bf = pd.DataFrame(association_rules_bf, columns=['antecedents', 'consequents', 'confidence'])\n",
    "    df_association_rules_bf['antecedents'] = df_association_rules_bf['antecedents'].apply(lambda x: '(' + ', '.join(list(x)) + ')' if len(x) > 1 else '(' + list(x)[0] + ')')\n",
    "    df_association_rules_bf['consequents'] = df_association_rules_bf['consequents'].apply(lambda x: '(' + ', '.join(list(x)) + ')' if len(x) > 1 else '(' + list(x)[0] + ')')\n",
    "\n",
    "\n",
    "    return df_frequent_itemsets, df_association_rules_bf"
   ],
   "metadata": {
    "collapsed": false
   }
  },
  {
   "cell_type": "code",
   "execution_count": 13,
   "outputs": [],
   "source": [
    "bf_times = []\n",
    "for data in [df1]:\n",
    "    # Measure execution time for brute force\n",
    "    start_time = time.time()\n",
    "    df_frequent_itemsets, df_association_rules_bf = brute_force(data, min_support = 0.1)\n",
    "    bf_times1 = time.time() - start_time"
   ],
   "metadata": {
    "collapsed": false
   }
  },
  {
   "cell_type": "code",
   "execution_count": 14,
   "outputs": [
    {
     "data": {
      "text/plain": "2.0476553440093994"
     },
     "execution_count": 14,
     "metadata": {},
     "output_type": "execute_result"
    }
   ],
   "source": [
    "bf_times1"
   ],
   "metadata": {
    "collapsed": false
   }
  },
  {
   "cell_type": "code",
   "execution_count": 15,
   "outputs": [],
   "source": [
    "c = bf_times1/ avg_row_length1 / pow(2, 13)/ len(df1)"
   ],
   "metadata": {
    "collapsed": false
   }
  },
  {
   "cell_type": "code",
   "execution_count": 16,
   "outputs": [
    {
     "data": {
      "text/plain": "6.080222032000059e-08"
     },
     "execution_count": 16,
     "metadata": {},
     "output_type": "execute_result"
    }
   ],
   "source": [
    "c"
   ],
   "metadata": {
    "collapsed": false
   }
  },
  {
   "cell_type": "code",
   "execution_count": 17,
   "outputs": [],
   "source": [
    "bf_times2 = c * avg_row_length2 * pow(2, 13) * len(df2)\n",
    "bf_times3 = c * avg_row_length3 * pow(2, 13) * len(df3)\n",
    "bf_times4 = c * avg_row_length4 * pow(2, 13) * len(df4)\n",
    "bf_times5 = c * avg_row_length5 * pow(2, 13) * len(df5)\n",
    "bf_times6 = c * avg_row_length6 * pow(2, 13) * len(df6)\n",
    "bf_times7 = c * avg_row_length7 * pow(2, 13) * len(df7)\n",
    "bf_times8 = c * avg_row_length8 * pow(2, 13) * len(df8)"
   ],
   "metadata": {
    "collapsed": false
   }
  },
  {
   "cell_type": "code",
   "execution_count": 18,
   "outputs": [
    {
     "data": {
      "text/plain": "3.915001460450956"
     },
     "execution_count": 18,
     "metadata": {},
     "output_type": "execute_result"
    }
   ],
   "source": [
    "bf_times8"
   ],
   "metadata": {
    "collapsed": false
   }
  },
  {
   "cell_type": "code",
   "execution_count": 19,
   "outputs": [],
   "source": [
    "bf_times = [bf_times1, bf_times2, bf_times3, bf_times4, bf_times5, bf_times6, bf_times7, bf_times8]"
   ],
   "metadata": {
    "collapsed": false
   }
  },
  {
   "cell_type": "code",
   "execution_count": 20,
   "outputs": [
    {
     "name": "stdout",
     "output_type": "stream",
     "text": [
      "     support                             itemsets\n",
      "0    0.19750                        (Sweet, Milk)\n",
      "1    0.16625                      (Sweet, Panner)\n",
      "2    0.18750                        (Sweet, Ghee)\n",
      "3    0.19625                      (Sweet, Butter)\n",
      "4    0.18625                     (Sweet, Yougurt)\n",
      "..       ...                                  ...\n",
      "106  0.10250   (Bread, Coffee Powder, Tea Powder)\n",
      "107  0.10625       (Lassi, Cheese, Coffee Powder)\n",
      "108  0.10625        (Lassi, Coffee Powder, Sugar)\n",
      "109  0.10750   (Lassi, Coffee Powder, Tea Powder)\n",
      "110  0.10375  (Cheese, Coffee Powder, Tea Powder)\n",
      "\n",
      "[111 rows x 2 columns]\n"
     ]
    }
   ],
   "source": [
    "print(df_frequent_itemsets)"
   ],
   "metadata": {
    "collapsed": false
   }
  },
  {
   "cell_type": "code",
   "execution_count": 21,
   "outputs": [
    {
     "name": "stdout",
     "output_type": "stream",
     "text": [
      "                    antecedents      consequents  confidence\n",
      "0                       (Sugar)         (Butter)    0.526316\n",
      "1                       (Lassi)  (Coffee Powder)    0.534535\n",
      "2                 (Sweet, Milk)  (Coffee Powder)    0.525316\n",
      "3         (Milk, Coffee Powder)          (Sweet)    0.518750\n",
      "4               (Sweet, Butter)  (Coffee Powder)    0.528662\n",
      "..                          ...              ...         ...\n",
      "90       (Coffee Powder, Sugar)          (Lassi)    0.559211\n",
      "91          (Lassi, Tea Powder)  (Coffee Powder)    0.565789\n",
      "92  (Coffee Powder, Tea Powder)          (Lassi)    0.505882\n",
      "93      (Coffee Powder, Cheese)     (Tea Powder)    0.512346\n",
      "94         (Tea Powder, Cheese)  (Coffee Powder)    0.549669\n",
      "\n",
      "[95 rows x 3 columns]\n"
     ]
    }
   ],
   "source": [
    "print(df_association_rules_bf)"
   ],
   "metadata": {
    "collapsed": false
   }
  },
  {
   "cell_type": "markdown",
   "metadata": {},
   "source": [
    "## 2.2 Apriori Rule Mining"
   ]
  },
  {
   "cell_type": "code",
   "execution_count": 26,
   "metadata": {},
   "outputs": [],
   "source": [
    "def transactions_to_dataframe(csvfile):\n",
    "    with open(csvfile) as csvfile:\n",
    "        reader = csv.reader(csvfile)\n",
    "        data = []\n",
    "        for row in reader:\n",
    "            data.append(row)\n",
    "        data = [[elem for elem in inner_list if elem != ''] for inner_list in data]\n",
    "        te = TransactionEncoder()\n",
    "        te_data = te.fit_transform(data)\n",
    "        df = pd.DataFrame(te_data, columns=te.columns_)\n",
    "    return df"
   ]
  },
  {
   "cell_type": "code",
   "execution_count": 27,
   "metadata": {},
   "outputs": [],
   "source": [
    "dfs = {}\n",
    "for dataset in datasets:\n",
    "    df = transactions_to_dataframe(dataset)\n",
    "    dfs[dataset] = df"
   ]
  },
  {
   "cell_type": "code",
   "execution_count": 28,
   "metadata": {},
   "outputs": [],
   "source": [
    "df1, df2, df3, df4, df5, df6, df7, df8 = dfs['dataset1.csv'], dfs['dataset2.csv'], dfs['dataset3.csv'], dfs['dataset4.csv'], dfs['dataset5.csv'], dfs['dataset6.csv'], dfs['dataset7.csv'], dfs['dataset8.csv']"
   ]
  },
  {
   "cell_type": "code",
   "execution_count": 29,
   "metadata": {},
   "outputs": [
    {
     "name": "stdout",
     "output_type": "stream",
     "text": [
      "     Bread  Butter  Cheese  Coffee Powder   Ghee  Lassi   Milk  Panner  Sugar  \\\n",
      "0    False    True    True           True   True  False  False   False  False   \n",
      "1    False   False   False           True   True  False  False   False  False   \n",
      "2    False    True    True          False  False   True  False   False  False   \n",
      "3     True    True    True           True  False  False  False    True  False   \n",
      "4    False    True    True           True  False  False  False   False   True   \n",
      "..     ...     ...     ...            ...    ...    ...    ...     ...    ...   \n",
      "795  False    True    True          False   True   True  False   False  False   \n",
      "796   True   False   False           True  False  False  False   False   True   \n",
      "797   True   False    True          False   True   True   True   False  False   \n",
      "798   True    True   False           True   True  False   True   False  False   \n",
      "799  False   False   False          False  False  False   True   False   True   \n",
      "\n",
      "     Sweet  Tea Powder  Yougurt  ﻿Lassi  \n",
      "0    False       False     True    True  \n",
      "1    False       False    False   False  \n",
      "2    False        True    False   False  \n",
      "3    False        True    False   False  \n",
      "4     True       False     True   False  \n",
      "..     ...         ...      ...     ...  \n",
      "795  False        True    False   False  \n",
      "796  False       False     True   False  \n",
      "797   True        True    False   False  \n",
      "798   True       False    False   False  \n",
      "799   True        True     True   False  \n",
      "\n",
      "[800 rows x 13 columns]\n"
     ]
    }
   ],
   "source": [
    "print(df1)"
   ]
  },
  {
   "cell_type": "code",
   "execution_count": 30,
   "metadata": {},
   "outputs": [],
   "source": [
    "# Measure the execution time for Apriori algorithm and brute force approach for each dataset\n",
    "apriori_times = []\n",
    "\n",
    "min_support = 0.1\n",
    "\n",
    "for data in [df1, df2, df3, df4, df5, df6, df7, df8]:\n",
    "    # Measure execution time for Apriori\n",
    "    start_time = time.time()\n",
    "    frequent_itemsets_ap = apriori(data, min_support = min_support, use_colnames=True)\n",
    "    rules = association_rules(frequent_itemsets_ap, metric=\"confidence\", min_threshold=0.5)\n",
    "    apriori_times.append(time.time() - start_time)"
   ]
  },
  {
   "cell_type": "code",
   "execution_count": 31,
   "metadata": {},
   "outputs": [
    {
     "name": "stdout",
     "output_type": "stream",
     "text": [
      "              antecedents      consequents  antecedent support  \\\n",
      "0                  (Ghee)  (Coffee Powder)            0.427333   \n",
      "1                (Panner)  (Coffee Powder)            0.431333   \n",
      "2                 (Sugar)  (Coffee Powder)            0.442000   \n",
      "3                 (Lassi)           (Milk)            0.436667   \n",
      "4                  (Milk)          (Sugar)            0.446667   \n",
      "..                    ...              ...                 ...   \n",
      "81       (Yougurt, Sugar)           (Milk)            0.208000   \n",
      "82       (Sweet, Yougurt)           (Milk)            0.194000   \n",
      "83          (Sweet, Milk)        (Yougurt)            0.190000   \n",
      "84     (Milk, Tea Powder)        (Yougurt)            0.208667   \n",
      "85  (Yougurt, Tea Powder)           (Milk)            0.208667   \n",
      "\n",
      "    consequent support   support  confidence      lift  leverage  conviction  \n",
      "0             0.461333  0.214000    0.500780  1.085506  0.016857    1.079017  \n",
      "1             0.461333  0.217333    0.503864  1.092191  0.018345    1.085724  \n",
      "2             0.461333  0.226667    0.512821  1.111605  0.022757    1.105684  \n",
      "3             0.446667  0.220000    0.503817  1.127948  0.024956    1.115179  \n",
      "4             0.442000  0.224000    0.501493  1.134599  0.026573    1.119341  \n",
      "..                 ...       ...         ...       ...       ...         ...  \n",
      "81            0.446667  0.117333    0.564103  1.262916  0.024427    1.269412  \n",
      "82            0.446667  0.100667    0.518900  1.161717  0.014013    1.150143  \n",
      "83            0.444000  0.100667    0.529825  1.193299  0.016307    1.182537  \n",
      "84            0.444000  0.110667    0.530351  1.194485  0.018019    1.183864  \n",
      "85            0.446667  0.110667    0.530351  1.187354  0.017462    1.178186  \n",
      "\n",
      "[86 rows x 9 columns]\n"
     ]
    }
   ],
   "source": [
    "print(rules)"
   ]
  },
  {
   "cell_type": "code",
   "execution_count": 32,
   "metadata": {},
   "outputs": [
    {
     "data": {
      "text/plain": "[0.006740093231201172,\n 0.0062940120697021484,\n 0.004728794097900391,\n 0.004924297332763672,\n 0.005218029022216797,\n 0.005267143249511719,\n 0.005986928939819336,\n 0.006747722625732422]"
     },
     "execution_count": 32,
     "metadata": {},
     "output_type": "execute_result"
    }
   ],
   "source": [
    "apriori_times"
   ]
  },
  {
   "cell_type": "markdown",
   "metadata": {},
   "source": [
    "## 2.3 Comparison"
   ]
  },
  {
   "cell_type": "code",
   "execution_count": 33,
   "metadata": {},
   "outputs": [
    {
     "data": {
      "text/plain": "<Figure size 640x480 with 1 Axes>",
      "image/png": "[encoded data removed]"
     },
     "metadata": {},
     "output_type": "display_data"
    }
   ],
   "source": [
    "# Plot the execution times for both the approaches on the same graph\n",
    "datasets = ['Dataset 1', 'Dataset 2', 'Dataset 3', 'Dataset 4', 'Dataset 5', 'Dataset 6', 'Dataset 7', 'Dataset 8']\n",
    "plt.plot(datasets, apriori_times, label='Apriori')\n",
    "plt.plot(datasets, bf_times, label='Brute Force')\n",
    "plt.xlabel('Dataset')\n",
    "plt.ylabel('Execution Time (seconds)')\n",
    "plt.legend()\n",
    "plt.show()"
   ]
  },
  {
   "cell_type": "code",
   "execution_count": null,
   "metadata": {},
   "outputs": [],
   "source": []
  }
 ],
 "metadata": {
  "kernelspec": {
   "display_name": "Python 3 (ipykernel)",
   "language": "python",
   "name": "python3"
  },
  "language_info": {
   "codemirror_mode": {
    "name": "ipython",
    "version": 3
   },
   "file_extension": ".py",
   "mimetype": "text/x-python",
   "name": "python",
   "nbconvert_exporter": "python",
   "pygments_lexer": "ipython3",
   "version": "3.9.6"
  }
 },
 "nbformat": 4,
 "nbformat_minor": 1
}
